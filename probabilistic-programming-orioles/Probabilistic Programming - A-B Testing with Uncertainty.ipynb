{
 "cells": [
  {
   "cell_type": "markdown",
   "metadata": {},
   "source": [
    "## Probabilistic programming from scratch 1"
   ]
  },
  {
   "cell_type": "markdown",
   "metadata": {},
   "source": [
    "Following the [Oriole](https://www.safaribooksonline.com/oriole/probabilistic-programming-from-scratch-1-a-b-testing-with-approximate-bayesian-computation#) by \n",
    "Mike Lee Williams from Fast Forward Labs"
   ]
  },
  {
   "cell_type": "markdown",
   "metadata": {},
   "source": [
    "### Results of A/B test that was run"
   ]
  },
  {
   "cell_type": "code",
   "execution_count": 6,
   "metadata": {
    "collapsed": true
   },
   "outputs": [],
   "source": [
    "n_visitors_a = 100  # number of visitors shown layout A\n",
    "n_conv_a = 4        # number of vistors shown layout A who converted (4%)\n",
    "\n",
    "n_visitors_b = 40  \n",
    "n_conv_b = 2"
   ]
  },
  {
   "cell_type": "markdown",
   "metadata": {},
   "source": [
    "### Setting up the simulation"
   ]
  },
  {
   "cell_type": "code",
   "execution_count": 2,
   "metadata": {
    "code_folding": [
     0
    ],
    "collapsed": true
   },
   "outputs": [],
   "source": [
    "def estimate_conversion(n_visitors, n_conv, trial_conversion, n_estimates=5000):\n",
    "    \"\"\"\n",
    "    Return n_estimates estimates of the conversion fraction of a layout \n",
    "    that received n_vistors, n_conv of which converted\n",
    "    \n",
    "    Alternatively phrased as with a trial conversion probability of p, how many times \n",
    "    do we see the conversion fraction that we observed from the one time we actually \n",
    "    ran the experiment?\n",
    "    \"\"\"\n",
    "    \n",
    "    i = 0\n",
    "    estimates = []\n",
    "    while i < n_estimates:\n",
    "        # Generate a trial conversion probability\n",
    "        p = trial_conversion()\n",
    "        # Simulate the conversion with this probability\n",
    "        n_sim = simulate_conversion(p, n_visitors)\n",
    "        if n_conv == n_sim:\n",
    "            estimates.append(p)\n",
    "            # Everytime we match, then the estimate counter is increased\n",
    "            i += 1\n",
    "    return estimates\n",
    "        "
   ]
  },
  {
   "cell_type": "markdown",
   "metadata": {},
   "source": [
    "In the previous function, we will get n_estimates estimates of a conversion probability that gives us the conversions that we obtained in our actual experiment"
   ]
  },
  {
   "cell_type": "code",
   "execution_count": 3,
   "metadata": {
    "code_folding": [
     2
    ],
    "collapsed": false
   },
   "outputs": [
    {
     "data": {
      "text/plain": [
       "0.760144372501612"
      ]
     },
     "execution_count": 3,
     "metadata": {},
     "output_type": "execute_result"
    }
   ],
   "source": [
    "import random\n",
    "\n",
    "def trial_conversion_a():\n",
    "    \"\"\"\n",
    "    Return a random probability of conversion between 0 and 1\n",
    "    \"\"\"\n",
    "    return random.random()\n",
    "\n",
    "trial_conversion_a()"
   ]
  },
  {
   "cell_type": "code",
   "execution_count": 4,
   "metadata": {
    "code_folding": [
     0
    ],
    "collapsed": false
   },
   "outputs": [
    {
     "data": {
      "text/plain": [
       "6"
      ]
     },
     "execution_count": 4,
     "metadata": {},
     "output_type": "execute_result"
    }
   ],
   "source": [
    "def simulate_conversion(p, n_visitors):\n",
    "    \"\"\"\n",
    "    Returns the number of visitors who convert given a conversion fraction p\n",
    "    \"\"\"\n",
    "    outcomes = [random.random() < p for _ in range(n_visitors)]\n",
    "    return sum(outcomes)\n",
    "\n",
    "simulate_conversion(0.5, 10)"
   ]
  },
  {
   "cell_type": "markdown",
   "metadata": {},
   "source": [
    "This works as follows - for each visitor, generate a random number and if that number is less than the conversion probability, then the visitor converted. Kind of like what you do with accepting a move in Monte Carlo simulations"
   ]
  },
  {
   "cell_type": "markdown",
   "metadata": {},
   "source": [
    "### What does the simulation tell us?"
   ]
  },
  {
   "cell_type": "code",
   "execution_count": 7,
   "metadata": {
    "collapsed": false
   },
   "outputs": [
    {
     "data": {
      "text/plain": [
       "5000"
      ]
     },
     "execution_count": 7,
     "metadata": {},
     "output_type": "execute_result"
    }
   ],
   "source": [
    "a_estimates = estimate_conversion(n_visitors_a, n_conv_a, trial_conversion_a)\n",
    "len(a_estimates)"
   ]
  },
  {
   "cell_type": "markdown",
   "metadata": {},
   "source": [
    "#### Histogram"
   ]
  },
  {
   "cell_type": "code",
   "execution_count": 8,
   "metadata": {
    "collapsed": false
   },
   "outputs": [
    {
     "data": {
      "text/plain": [
       "<matplotlib.text.Text at 0x7fac62be7fd0>"
      ]
     },
     "execution_count": 8,
     "metadata": {},
     "output_type": "execute_result"
    },
    {
     "data": {
      "image/png": "[encoded data removed]",
      "text/plain": [
       "<matplotlib.figure.Figure at 0x7fac64be0ba8>"
      ]
     },
     "metadata": {},
     "output_type": "display_data"
    }
   ],
   "source": [
    "% matplotlib inline\n",
    "import matplotlib.pyplot as plt\n",
    "\n",
    "# 50 bins between 0 and 0.25 - our measured conversion probabilities are smaller than this\n",
    "abbins = [i/200.0 for i in range(50)]\n",
    "\n",
    "plt.hist(a_estimates, bins=abbins, normed=True)\n",
    "plt.title('Estimates of conversion fraction for A after the A/B test')"
   ]
  },
  {
   "cell_type": "code",
   "execution_count": 11,
   "metadata": {
    "collapsed": false
   },
   "outputs": [
    {
     "data": {
      "text/plain": [
       "0.08407945319142177"
      ]
     },
     "execution_count": 11,
     "metadata": {},
     "output_type": "execute_result"
    }
   ],
   "source": [
    "def trial_conversion_b():\n",
    "    \"\"\"\n",
    "    Return a random number around 0.06 +/- 0.02\n",
    "    \"\"\"\n",
    "    while True:\n",
    "        x = random.normalvariate(mu=0.06, sigma = 0.02)\n",
    "        if 0 <= x <=1:\n",
    "            return x\n",
    "\n",
    "trial_conversion_b()"
   ]
  },
  {
   "cell_type": "markdown",
   "metadata": {},
   "source": [
    "Here we are incorporating prior belief into the conversion probability of B - we assume it is between 0.04 and 0.08"
   ]
  },
  {
   "cell_type": "code",
   "execution_count": 12,
   "metadata": {
    "collapsed": false
   },
   "outputs": [
    {
     "data": {
      "text/plain": [
       "<matplotlib.legend.Legend at 0x7fac62b83898>"
      ]
     },
     "execution_count": 12,
     "metadata": {},
     "output_type": "execute_result"
    },
    {
     "data": {
      "image/png": "[encoded data removed]",
      "text/plain": [
       "<matplotlib.figure.Figure at 0x7fac62b06588>"
      ]
     },
     "metadata": {},
     "output_type": "display_data"
    }
   ],
   "source": [
    "trial_as = [trial_conversion_a() for _ in range(100000)]\n",
    "trial_bs = [trial_conversion_b() for _ in range(100000)]\n",
    "\n",
    "plt.hist(trial_as, bins=abbins, label='A',normed=True)\n",
    "plt.hist(trial_bs, bins=abbins, label='B',alpha=0.5, normed=True)\n",
    "plt.title('Beliefs about conversion fraction prior to A/B test')\n",
    "plt.legend()"
   ]
  },
  {
   "cell_type": "code",
   "execution_count": 14,
   "metadata": {
    "collapsed": false
   },
   "outputs": [
    {
     "data": {
      "text/plain": [
       "<matplotlib.legend.Legend at 0x7fac62408908>"
      ]
     },
     "execution_count": 14,
     "metadata": {},
     "output_type": "execute_result"
    },
    {
     "data": {
      "image/png": "[encoded data removed]",
      "text/plain": [
       "<matplotlib.figure.Figure at 0x7fac624087f0>"
      ]
     },
     "metadata": {},
     "output_type": "display_data"
    }
   ],
   "source": [
    "b_estimates = estimate_conversion(n_visitors_b,n_conv_b, trial_conversion_b)\n",
    "plt.hist(a_estimates, bins=abbins, label='A',normed=True)\n",
    "plt.hist(b_estimates, bins=abbins, label='B',alpha=0.5,normed=True)\n",
    "plt.title('Estimates of conversion fraction after the A/B test')\n",
    "plt.legend()"
   ]
  },
  {
   "cell_type": "markdown",
   "metadata": {},
   "source": [
    "Shows that estimate for conversion from B is between 0.05 and 0.06 after incorporating our data"
   ]
  },
  {
   "cell_type": "markdown",
   "metadata": {},
   "source": [
    "### Comparisons"
   ]
  },
  {
   "cell_type": "code",
   "execution_count": 15,
   "metadata": {
    "collapsed": true
   },
   "outputs": [],
   "source": [
    "b_better = [b > a for a, b in zip(a_estimates, b_estimates)]"
   ]
  },
  {
   "cell_type": "code",
   "execution_count": 16,
   "metadata": {
    "collapsed": false
   },
   "outputs": [
    {
     "name": "stdout",
     "output_type": "stream",
     "text": [
      "[True, True, True, True, True, True, True, False, False, True]\n"
     ]
    }
   ],
   "source": [
    "print(b_better[:10])"
   ]
  },
  {
   "cell_type": "code",
   "execution_count": 17,
   "metadata": {
    "collapsed": false
   },
   "outputs": [
    {
     "name": "stdout",
     "output_type": "stream",
     "text": [
      "0.6786\n"
     ]
    }
   ],
   "source": [
    "print(sum(b_better)/len(b_better))"
   ]
  },
  {
   "cell_type": "markdown",
   "metadata": {},
   "source": [
    "The analysis tells us that about the probability of layout B being better is 0.68. Depending on the cost of the decisions involved, this maybe enough to proceed. "
   ]
  },
  {
   "cell_type": "markdown",
   "metadata": {},
   "source": [
    "### Exercises"
   ]
  },
  {
   "cell_type": "markdown",
   "metadata": {},
   "source": [
    "#### What is the probability that the conversion of A is > 0.06 ?"
   ]
  },
  {
   "cell_type": "code",
   "execution_count": 19,
   "metadata": {
    "collapsed": false
   },
   "outputs": [
    {
     "name": "stdout",
     "output_type": "stream",
     "text": [
      "0.2532\n"
     ]
    }
   ],
   "source": [
    "a_gt_6pct = [a > 0.06 for a in a_estimates]\n",
    "print(sum(a_gt_6pct)/len(a_gt_6pct))"
   ]
  },
  {
   "cell_type": "markdown",
   "metadata": {},
   "source": [
    "About 25%"
   ]
  },
  {
   "cell_type": "markdown",
   "metadata": {},
   "source": [
    "#### What is the probability that b is 1% better than A? "
   ]
  },
  {
   "cell_type": "code",
   "execution_count": 20,
   "metadata": {
    "collapsed": false
   },
   "outputs": [
    {
     "name": "stdout",
     "output_type": "stream",
     "text": [
      "0.538\n"
     ]
    }
   ],
   "source": [
    "b_better_1pct = [b > (a + 0.01) for a , b in zip(a_estimates, b_estimates)]\n",
    "print(sum(b_better_1pct)/len(b_better_1pct))"
   ]
  },
  {
   "cell_type": "markdown",
   "metadata": {},
   "source": [
    "About 54%"
   ]
  },
  {
   "cell_type": "markdown",
   "metadata": {},
   "source": [
    "#### What is the most likely value of the conversion probability of B? "
   ]
  },
  {
   "cell_type": "code",
   "execution_count": 24,
   "metadata": {
    "collapsed": false
   },
   "outputs": [
    {
     "name": "stdout",
     "output_type": "stream",
     "text": [
      "0.05909479413316146\n"
     ]
    }
   ],
   "source": [
    "# Technically one should look at the median and not the mean\n",
    "print(sum(b_estimates)/len(b_estimates))"
   ]
  },
  {
   "cell_type": "code",
   "execution_count": 25,
   "metadata": {
    "collapsed": false
   },
   "outputs": [
    {
     "name": "stdout",
     "output_type": "stream",
     "text": [
      "0.0589229105394\n"
     ]
    }
   ],
   "source": [
    "import numpy as np\n",
    "median_b = np.median(np.asarray(b_estimates))\n",
    "print(median_b)"
   ]
  },
  {
   "cell_type": "markdown",
   "metadata": {},
   "source": [
    "Median is slightly lower than the mean, but they are much closer to 0.06 than to 0.05 which is what our measurement obtained"
   ]
  },
  {
   "cell_type": "code",
   "execution_count": null,
   "metadata": {
    "collapsed": true
   },
   "outputs": [],
   "source": []
  }
 ],
 "metadata": {
  "kernelspec": {
   "display_name": "Python 3",
   "language": "python",
   "name": "python3"
  },
  "language_info": {
   "codemirror_mode": {
    "name": "ipython",
    "version": 3
   },
   "file_extension": ".py",
   "mimetype": "text/x-python",
   "name": "python",
   "nbconvert_exporter": "python",
   "pygments_lexer": "ipython3",
   "version": "3.5.3"
  }
 },
 "nbformat": 4,
 "nbformat_minor": 2
}
